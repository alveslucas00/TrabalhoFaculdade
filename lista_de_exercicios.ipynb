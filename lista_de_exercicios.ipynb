{
  "nbformat": 4,
  "nbformat_minor": 0,
  "metadata": {
    "colab": {
      "provenance": [],
      "authorship_tag": "ABX9TyPDzU8YJeBPD0Uhc1BP2xDe",
      "include_colab_link": true
    },
    "kernelspec": {
      "name": "python3",
      "display_name": "Python 3"
    },
    "language_info": {
      "name": "python"
    }
  },
  "cells": [
    {
      "cell_type": "markdown",
      "metadata": {
        "id": "view-in-github",
        "colab_type": "text"
      },
      "source": [
        "<a href=\"https://colab.research.google.com/github/alveslucas00/TrabalhoFaculdade/blob/main/lista_de_exercicios.ipynb\" target=\"_parent\"><img src=\"https://colab.research.google.com/assets/colab-badge.svg\" alt=\"Open In Colab\"/></a>"
      ]
    },
    {
      "cell_type": "markdown",
      "source": [
        "Tendo como dado de entrada a altura (h) de uma pessoa, construa um algoritmo que calcule seu\n",
        "peso ideal, utilizando as seguintes fórmulas:\n",
        "a. Para homens: (72.7*h) - 58\n",
        "b. Para mulheres: (62.1*h) - 44.7"
      ],
      "metadata": {
        "id": "HtJkGDwIQw3I"
      }
    },
    {
      "cell_type": "code",
      "execution_count": 14,
      "metadata": {
        "colab": {
          "base_uri": "https://localhost:8080/"
        },
        "id": "34Y1jhAUPDyg",
        "outputId": "84b20bcf-9e56-45ec-e80b-d2a136212a25"
      },
      "outputs": [
        {
          "output_type": "stream",
          "name": "stdout",
          "text": [
            "qual é sua altura: 1.72\n",
            "qual seu sexo? digite 1 para masculino e 2 para feminino1\n",
            "seu peso ideal é 67.044\n"
          ]
        }
      ],
      "source": [
        "altura = float(input(\"qual é sua altura: \"))\n",
        "genero = input(\"qual seu sexo? digite 1 para masculino e 2 para feminino\" )\n",
        "pi = ''\n",
        "if genero == \"1\":\n",
        "  pi = (72.7 * altura)-58\n",
        "elif genero == \"2\":\n",
        "  pi = (62.1 * altura)-44\n",
        "else :\n",
        "  print(\"seu sexo foi digitado incorretamente\")\n",
        "print('seu peso ideal é', pi)\n",
        " \n"
      ]
    }
  ]
}