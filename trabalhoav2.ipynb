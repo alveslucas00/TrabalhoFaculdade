{
  "nbformat": 4,
  "nbformat_minor": 0,
  "metadata": {
    "colab": {
      "provenance": [],
      "include_colab_link": true
    },
    "kernelspec": {
      "name": "python3",
      "display_name": "Python 3"
    },
    "language_info": {
      "name": "python"
    }
  },
  "cells": [
    {
      "cell_type": "markdown",
      "metadata": {
        "id": "view-in-github",
        "colab_type": "text"
      },
      "source": [
        "<a href=\"https://colab.research.google.com/github/alveslucas00/TrabalhoFaculdade/blob/main/trabalhoav2.ipynb\" target=\"_parent\"><img src=\"https://colab.research.google.com/assets/colab-badge.svg\" alt=\"Open In Colab\"/></a>"
      ]
    },
    {
      "cell_type": "markdown",
      "source": [
        "1. Função que calcule a area de trapézio\n"
      ],
      "metadata": {
        "id": "r8Toi2dWTOQn"
      }
    },
    {
      "cell_type": "code",
      "execution_count": null,
      "metadata": {
        "id": "2XOHaOnZRbNP"
      },
      "outputs": [],
      "source": [
        "def area(basemaior, basemenor, altura):\n",
        "  calculo = ((basemaior + basemenor)* altura)/ 2\n",
        "  print(f'A área do trapézio é de {calculo}.')\n",
        "\n",
        "B = float(input('Informe o valor da base maior do trapézio: '))\n",
        "b = float(input('Informe o valor da base menor do trapézio: '))\n",
        "a = float(input('Informe o valor da altura do trapézio: '))\n",
        "\n",
        "area(B,b,a)"
      ]
    },
    {
      "cell_type": "code",
      "source": [],
      "metadata": {
        "id": "u6eIalIxX0Bp"
      },
      "execution_count": null,
      "outputs": []
    },
    {
      "cell_type": "markdown",
      "source": [
        "2. Função soma_imposto "
      ],
      "metadata": {
        "id": "octr_iwNVQrz"
      }
    },
    {
      "cell_type": "code",
      "source": [
        "def soma_imposto(taxa_imposto, custo):\n",
        "  valor_final = custo * (1 + (taxa_imposto/100))\n",
        "  print(f'O custo final do seu produto é {valor_final}.')\n",
        "\n",
        "i= int(input('Informe a taxa de imposto (%) :'))\n",
        "c= int(input('Informe o custo do produto:'))\n",
        "\n",
        "soma_imposto(i,c)\n",
        "\n"
      ],
      "metadata": {
        "id": "es0dKEThT_0t"
      },
      "execution_count": null,
      "outputs": []
    },
    {
      "cell_type": "markdown",
      "source": [
        "3. conversao de horas\n"
      ],
      "metadata": {
        "id": "WKSqFD7RYThA"
      }
    },
    {
      "cell_type": "code",
      "source": [
        "def converta_hora(hora, minutos):\n",
        "  A = 'AM'\n",
        "  P = 'PM'\n",
        "  if 0 <= hora <= 12 and 0 <= minutos < 60:\n",
        "    print(f'{hora}:{minutos} {A}')\n",
        "  elif 12 < hora < 24 and 0 <= minutos < 60:\n",
        "    print(f'{hora - 12}:{minutos} {P}')\n",
        "  else:\n",
        "    print('Horário digitado incorretamente')\n",
        "\n",
        "\n",
        "while True:\n",
        "    h = int(input('Hora: '))\n",
        "    if h < 0 :\n",
        "      break\n",
        "    m = int(input('Minuto: '))\n",
        "    converta_hora(h,m)\n",
        "\n",
        "print('Programa encerrado')\n",
        " "
      ],
      "metadata": {
        "colab": {
          "base_uri": "https://localhost:8080/"
        },
        "id": "vRQmLYE5aqx6",
        "outputId": "d20287dd-26d5-4753-8096-a2d2e9b26640"
      },
      "execution_count": null,
      "outputs": [
        {
          "output_type": "stream",
          "name": "stdout",
          "text": [
            "Hora: 10\n",
            "Minuto: 05\n",
            "10:5 AM\n",
            "Hora: 17\n",
            "Minuto: 56\n",
            "5:56 PM\n",
            "Hora: -1\n",
            "Programa encerrado\n"
          ]
        }
      ]
    }
  ]
}